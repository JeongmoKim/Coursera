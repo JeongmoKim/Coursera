{
 "cells": [
  {
   "cell_type": "markdown",
   "id": "0d5d94fc-781b-4376-a92f-bb26d924cd81",
   "metadata": {},
   "source": [
    "<h1>My Jupyter Notebook on IBM Watson Studio<h1>"
   ]
  },
  {
   "cell_type": "markdown",
   "id": "81ad59e6-acfc-4c13-8804-6b2547314628",
   "metadata": {},
   "source": [
    "**Jeongmo Kim**\\\n",
    "My current occupation is researcher"
   ]
  },
  {
   "cell_type": "markdown",
   "id": "d837b74b-a6fa-4e5b-8eb9-60f6e652d4ec",
   "metadata": {},
   "source": [
    "*I am interested in data science because I want to use AI for my scientific project*"
   ]
  },
  {
   "cell_type": "markdown",
   "id": "6c8514f5-ddb1-47d4-91b9-e2fda4b1b315",
   "metadata": {},
   "source": [
    "<h3>The next code is about the way of calculation<h3>"
   ]
  },
  {
   "cell_type": "markdown",
   "id": "d61762e8-e3bd-4f2e-bc88-a604684923f7",
   "metadata": {},
   "source": [
    "1+1"
   ]
  },
  {
   "cell_type": "markdown",
   "id": "c2eb8ed8-eca6-45af-baeb-dc129b3e90b8",
   "metadata": {},
   "source": [
    "What is Python ?\n",
    "https://en.wikipedia.org/wiki/Python_%28programming_language%29"
   ]
  },
  {
   "cell_type": "markdown",
   "id": "838ffdbd-4194-4e0d-8a8a-d3eac85ceec0",
   "metadata": {},
   "source": [
    "![Python logo](https://upload.wikimedia.org/wikipedia/commons/f/f8/Python_logo_and_wordmark.svg)"
   ]
  },
  {
   "cell_type": "markdown",
   "id": "980036b4-b8ec-43e7-a056-47c0df901a1f",
   "metadata": {},
   "source": [
    "| First appeared | 20 February 1991 |\n",
    "| --- | --- |\n",
    "| Stable release | 3.11.2 |"
   ]
  },
  {
   "cell_type": "code",
   "execution_count": null,
   "id": "45831339-23e4-4ffb-808c-cbc89d83643c",
   "metadata": {},
   "outputs": [],
   "source": []
  }
 ],
 "metadata": {
  "kernelspec": {
   "display_name": "Python",
   "language": "python",
   "name": "conda-env-python-py"
  },
  "language_info": {
   "codemirror_mode": {
    "name": "ipython",
    "version": 3
   },
   "file_extension": ".py",
   "mimetype": "text/x-python",
   "name": "python",
   "nbconvert_exporter": "python",
   "pygments_lexer": "ipython3",
   "version": "3.7.12"
  }
 },
 "nbformat": 4,
 "nbformat_minor": 5
}
